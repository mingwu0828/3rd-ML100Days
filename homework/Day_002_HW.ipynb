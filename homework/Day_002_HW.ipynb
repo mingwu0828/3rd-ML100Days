{
 "cells": [
  {
   "cell_type": "code",
   "execution_count": null,
   "metadata": {},
   "outputs": [],
   "source": [
    "## 請找出一個你認為機器學習可以發光發熱的領域並闡述原因?\n",
    "## 目前公司是AOI檢測的公司, 透過設備傳回PCB板的資料後, 比對設定資料後判斷良率.\n",
    "## 但是因為製造產品會有誤差, 所以比對設定值不完全百分百可以判讀數據.\n",
    "## 所以目前就是導入機械學習方式, 針對第一階段後不良品進行判斷. 找出被誤判的良品. \n",
    "## 複檢程序: 透過人員回覆PCB版的良品/不良品方式, 達到機械學習複檢檢測程序.\n",
    "## 這樣的做法可以減少資深資淺人員的經驗差異. \n",
    "## 可以減少人員因為身體不適, 心情不好的誤判, \n",
    "## 可以複製經驗法則, 在生產量暴增的狀態維持產出."
   ]
  }
 ],
 "metadata": {
  "kernelspec": {
   "display_name": "Python 3",
   "language": "python",
   "name": "python3"
  },
  "language_info": {
   "codemirror_mode": {
    "name": "ipython",
    "version": 3
   },
   "file_extension": ".py",
   "mimetype": "text/x-python",
   "name": "python",
   "nbconvert_exporter": "python",
   "pygments_lexer": "ipython3",
   "version": "3.7.3"
  }
 },
 "nbformat": 4,
 "nbformat_minor": 2
}
