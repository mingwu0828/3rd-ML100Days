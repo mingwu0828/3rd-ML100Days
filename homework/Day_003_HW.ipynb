{
 "cells": [
  {
   "cell_type": "code",
   "execution_count": null,
   "metadata": {},
   "outputs": [],
   "source": [
    "## 以应用为视觉，全面分析人脸识别\n",
    "## https://www.jiqizhixin.com/articles/2019-08-09\n",
    "## \n",
    "## 作業 1：目標\n",
    "##   从应用的角度，系统性的分析人脸识别技术与商业应用的结合。\n",
    "##   根据前瞻产业研究院对对人脸识别市场的预估，到2022年，中国人脸识别市场规模将超过66亿元。\n",
    "##  \n",
    "## 作業 2：方法\n",
    "##   基础层算法，相当于人脸的预处理。一张人脸，首先要经过人脸检测、特征关键点处理，质量模型过滤之后，才能到应用层算法做处理，并应用到实际场景中。\n",
    "##   应用层算法，身份认证/安防的核心功能在于确认“你是谁”，互娱领域的核心在于“人脸特效处理”；\n",
    "##  \n",
    "## 作業 3：資料來源 \n",
    "##   身份认证/安防的核心技术在于活体检测、人脸比对、人脸搜索；主要用于：线上远程认证场景(金融开户、刷脸注册、刷脸登录等)、线下无人值守场景(智慧交通、人脸门禁、刷脸取款、刷脸支付等)。\n",
    "##   互娱应用，也深深契合着行业发展。随着智能手机兴起，人们的自拍分享需求渐渐旺盛，为与手机硬件深度结合。\n",
    "##  \n"
   ]
  }
 ],
 "metadata": {
  "kernelspec": {
   "display_name": "Python 3",
   "language": "python",
   "name": "python3"
  },
  "language_info": {
   "codemirror_mode": {
    "name": "ipython",
    "version": 3
   },
   "file_extension": ".py",
   "mimetype": "text/x-python",
   "name": "python",
   "nbconvert_exporter": "python",
   "pygments_lexer": "ipython3",
   "version": "3.7.3"
  }
 },
 "nbformat": 4,
 "nbformat_minor": 2
}
